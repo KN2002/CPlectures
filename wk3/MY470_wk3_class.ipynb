{
 "cells": [
  {
   "cell_type": "markdown",
   "metadata": {
    "slideshow": {
     "slide_type": "slide"
    }
   },
   "source": [
    "### MY470 Computer Programming\n",
    "# For-Loops and List Comprehensions in Python\n",
    "### Week 3 Lab"
   ]
  },
  {
   "cell_type": "markdown",
   "metadata": {
    "slideshow": {
     "slide_type": "slide"
    }
   },
   "source": [
    "## Control Flow and Indentation"
   ]
  },
  {
   "cell_type": "markdown",
   "metadata": {
    "slideshow": {
     "slide_type": "-"
    }
   },
   "source": [
    "```\n",
    "for i in list: \n",
    "    # inside the for-loop\n",
    "    if something is TRUE:\n",
    "        # inside the if statement\n",
    "        do something\n",
    "    else:\n",
    "        # inside the else statement\n",
    "        do something\n",
    "    # inside the for-loop, but not in the if or else statement anymore\n",
    "    do something  \n",
    "# outside of the for-loop\n",
    "do something\n",
    "```"
   ]
  },
  {
   "cell_type": "markdown",
   "metadata": {
    "slideshow": {
     "slide_type": "slide"
    }
   },
   "source": [
    "## Understanding Errors in `for`-Loops\n",
    "\n",
    "### General SyntaxError\n",
    "The line with for must end in a colon `:`, otherwise you will get a ```SyntaxError```. For example:\n",
    "```\n",
    "File \"<ipython-input-3-16abb556f86c>\", line 2\n",
    "    for i in names_list\n",
    "                       ^\n",
    "SyntaxError: invalid syntax\n",
    "```\n",
    "\n",
    "### SyntaxError: EOF \n",
    "If you don't finish the loop, or don't end the code properly (e.g., Python was expecting more, such as a close bracket) you will get a EOF error.\n",
    "\n",
    "The ```SyntaxError: unexpected EOF while parsing``` error occurs when the end of your source code is reached before all code is executed. This happens when you make a mistake in the structure, or syntax, of your code. EOF stands for End of File. This represents the last character in a Python program.\n",
    "```\n",
    "File \"<ipython-input-4-d5c917508587>\", line 2\n",
    "    for i in names_list:\n",
    "                        ^\n",
    "SyntaxError: unexpected EOF while parsing\n",
    "```\n",
    "\n",
    "### IndentationError\n",
    "The cause of the ```IndentationError: unexpected indent``` error is indenting your code too far, or using too many tabs and spaces to indent a line of code. \n",
    "```\n",
    "  File \"<ipython-input-5-5fb67888032f>\", line 3\n",
    "    print(i)\n",
    "    ^\n",
    "IndentationError: expected an indented block\n",
    "```\n",
    "If you aren't indenting correctly, a function will likely turn red instead of green."
   ]
  },
  {
   "cell_type": "code",
   "execution_count": 147,
   "metadata": {
    "collapsed": true,
    "slideshow": {
     "slide_type": "slide"
    }
   },
   "outputs": [
    {
     "name": "stdout",
     "output_type": "stream",
     "text": [
      "[1, 2, 'boo', 4, 5, 'boo', 7, 8, 'boo', 10, 11, 'boo', 13, 14, 'boo', 16, 17, 'boo', 19, 20, 'boo', 22, 23, 'boo', 25, 26, 'boo', 28, 29, 'boo', 31, 32, 'boo', 34, 35, 'boo', 37, 38, 'boo', 40, 41, 'boo', 43, 44, 'boo', 46, 47, 'boo', 49, 50, 'boo', 52, 53, 'boo', 55, 56, 'boo', 58, 59, 'boo', 61, 62, 'boo', 64, 65, 'boo', 67, 68, 'boo', 70, 71, 'boo', 73, 74, 'boo', 76, 77, 'boo', 79, 80, 'boo', 82, 83, 'boo', 85, 86, 'boo', 88, 89, 'boo', 91, 92, 'boo', 94, 95, 'boo', 97, 98, 'boo', 100]\n",
      "[1, 2, 'boo', 4, 5, 'boo', 7, 8, 'boo', 10, 11, 'boo', 13, 14, 'boo', 16, 17, 'boo', 19, 20, 'boo', 22, 23, 'boo', 25, 26, 'boo', 28, 29, 'boo', 31, 32, 'boo', 34, 35, 'boo', 37, 38, 'boo', 40, 41, 'boo', 43, 44, 'boo', 46, 47, 'boo', 49, 50, 'boo', 52, 53, 'boo', 55, 56, 'boo', 58, 59, 'boo', 61, 62, 'boo', 64, 65, 'boo', 67, 68, 'boo', 70, 71, 'boo', 73, 74, 'boo', 76, 77, 'boo', 79, 80, 'boo', 82, 83, 'boo', 85, 86, 'boo', 88, 89, 'boo', 91, 92, 'boo', 94, 95, 'boo', 97, 98, 'boo', 100]\n"
     ]
    }
   ],
   "source": [
    "# Exercise 1: Create a list that contains all integers from 1 to 100 (inclusive), \n",
    "# except that it has the string 'boo' for every integer that is divisible by 3 \n",
    "# Your list should look like: [1, 2, 'boo', 4, 5, 'boo', 7, 8, 'boo', 10, ...]\n",
    "\n",
    "ls = [] # start with an empty list \n",
    "for i in range(1,101): #101 because it should include 100 \n",
    "    if i % 3 == 0: \n",
    "     ls.append('boo') #adding onto the list using append \n",
    "    else: \n",
    "     ls.append(i) #otherwise you just add the number that is in the range \n",
    "print(ls)\n",
    "\n",
    "#method 2 (list comprehension)\n",
    "print(['boo' if i%3 == 0 else i for i in range(1,101)])"
   ]
  },
  {
   "cell_type": "code",
   "execution_count": 148,
   "metadata": {
    "collapsed": true,
    "slideshow": {
     "slide_type": "-"
    }
   },
   "outputs": [
    {
     "name": "stdout",
     "output_type": "stream",
     "text": [
      "24\n",
      "[2, 8, 10, 4]\n"
     ]
    },
    {
     "data": {
      "text/plain": [
       "24"
      ]
     },
     "execution_count": 148,
     "metadata": {},
     "output_type": "execute_result"
    }
   ],
   "source": [
    "# Exercise 2: Sum the even integers from the list below.\n",
    "lst = [1, 3, 2, 4.5, 7, 8, 10, 3, 5, 4, 7, 3.33] \n",
    "\n",
    "summ = 0 #keeping a running sum \n",
    "for i in lst: #using a for loop \n",
    "    if i % 2 == 0: # if the integer is even \n",
    "        summ+= i # add it to the sum \n",
    "print(summ)\n",
    "\n",
    "#more efficient: \n",
    "\n",
    "newls = [i for i in lst if i %2 == 0] #this creates a new list of just the even numbers \n",
    "print(newls) \n",
    "sum(newls) #go over it again and call it sum "
   ]
  },
  {
   "cell_type": "markdown",
   "metadata": {
    "slideshow": {
     "slide_type": "slide"
    }
   },
   "source": [
    "## List Comprehensions\n",
    "\n",
    "Create a new list based on another one.\n",
    "\n",
    "List comprehensions are generally more compact and faster than normal loops for creating a list. However, we should avoid writing very long list comprehensions in one line to ensure that code is legible.\n",
    "\n",
    "With a for-loop: \n",
    "\n",
    "```\n",
    "newlst = []\n",
    "for i in lst:\n",
    "    if something is TRUE:\n",
    "        j = do something to i\n",
    "        newlst.append(j)\n",
    "```    \n",
    "\n",
    "With a list comprehension: \n",
    "\n",
    "```\n",
    "newlst = [do something to i for i in lst if something is TRUE] \n",
    "```"
   ]
  },
  {
   "cell_type": "code",
   "execution_count": 149,
   "metadata": {
    "collapsed": true,
    "slideshow": {
     "slide_type": "slide"
    }
   },
   "outputs": [
    {
     "name": "stdout",
     "output_type": "stream",
     "text": [
      "[1, 9, 4, 20.25, 49, 64, 100, 9, 25, 16, 49, 11.0889]\n",
      "[1, 9, 4, 49, 64, 100, 9, 25, 16, 49]\n"
     ]
    }
   ],
   "source": [
    "# Exercise 3: Using a list comprehension, create a new list containing \n",
    "# the squares of the integers in the list below\n",
    "lst = [1, 3, 2, 4.5, 7, 8, 10, 3, 5, 4, 7, 3.33]\n",
    "\n",
    "#method 1 \n",
    "newlst = []\n",
    "for i in lst: \n",
    "    newlst.append(i**2)\n",
    "print(newlst)\n",
    "\n",
    "#method 2 \n",
    "print([i**2 for i in lst if type(i) == int])\n"
   ]
  },
  {
   "cell_type": "code",
   "execution_count": 164,
   "metadata": {
    "collapsed": true,
    "slideshow": {
     "slide_type": "-"
    }
   },
   "outputs": [
    {
     "name": "stdout",
     "output_type": "stream",
     "text": [
      "[(0, 6), (1, 5), (2, 4), (3, 3)]\n",
      "[(0, 6), (1, 5), (2, 4), (3, 3)]\n"
     ]
    }
   ],
   "source": [
    "# Exercise 4: Consider the lists x and y below. Using a list comprehension,\n",
    "# create a list that contains all combinations of (elem_x, elem_y) \n",
    "# such that elem_x + elem_y = 6\n",
    "# Your answer should look as follows: [(0, 6), (1, 5), (2, 4), (3, 3)]\n",
    "x = [0, 1, 2, 3]\n",
    "y = [3, 4, 5, 6]\n",
    "\n",
    "ls = []\n",
    "for i in x: \n",
    "    for j in y:\n",
    "        if i + j == 6: #such that elem_x + elem_y = 6 \n",
    "            ls.append((i,j)) #appending a tupple of two elements \n",
    "print(ls)\n",
    "\n",
    "#list comprehension\n",
    "print([(i,j) for i in x for j in y if i + j == 6]) # start with what you want to do with the list and then the rest is the same \n"
   ]
  },
  {
   "cell_type": "code",
   "execution_count": 182,
   "metadata": {
    "collapsed": true,
    "slideshow": {
     "slide_type": "-"
    }
   },
   "outputs": [
    {
     "name": "stdout",
     "output_type": "stream",
     "text": [
      "[[0, 1, 2, 3], [1, 2, 3], [2, 3], [3]]\n",
      "[[0, 1, 2, 3], [1, 2, 3], [2, 3], [3]]\n",
      "3\n"
     ]
    }
   ],
   "source": [
    "# Exercise 5: Using nested list comprehensions and range(), create a list \n",
    "# that looks as follows: [[0, 1, 2, 3], [1, 2, 3], [2, 3], [3]]\n",
    "\n",
    "#1 \n",
    "print([list(range(i,4)) for i in range(4)])\n",
    "\n",
    "#2 \n",
    "ls = [[j for j in range(i,4)]for i in range(4)]\n",
    "print(ls)\n",
    "print(ls[0][3])\n"
   ]
  },
  {
   "cell_type": "markdown",
   "metadata": {
    "slideshow": {
     "slide_type": "slide"
    }
   },
   "source": [
    "## Iterating over Dictionaries"
   ]
  },
  {
   "cell_type": "code",
   "execution_count": 183,
   "metadata": {
    "slideshow": {
     "slide_type": "-"
    }
   },
   "outputs": [
    {
     "name": "stdout",
     "output_type": "stream",
     "text": [
      "a\n",
      "b\n",
      "c\n",
      "\n",
      "apple\n",
      "beetle\n",
      "cat\n",
      "apple\n",
      "beetle\n",
      "cat\n",
      "\n",
      "('a', 'apple')\n",
      "('b', 'beetle')\n",
      "('c', 'cat')\n",
      "\n",
      "a : apple\n",
      "b : beetle\n",
      "c : cat\n"
     ]
    }
   ],
   "source": [
    "letters = {'a':'apple', 'b': 'beetle', 'c': 'cat'}\n",
    "\n",
    "for i in letters:  # equivalent to: for i in letters.keys():\n",
    "    print(i)\n",
    "\n",
    "print()\n",
    "for i in letters:\n",
    "    print(letters[i])\n",
    "# equivalent to:\n",
    "for i in letters.values(): #the values of the dictionary \n",
    "    print(i)\n",
    "\n",
    "print()\n",
    "for i in letters.items(): #it them comes in pairs \n",
    "    print(i)\n",
    "    \n",
    "print()\n",
    "for i, j in letters.items(): \n",
    "    print(i, \":\", j)\n",
    "    "
   ]
  },
  {
   "cell_type": "code",
   "execution_count": 239,
   "metadata": {
    "collapsed": true,
    "slideshow": {
     "slide_type": "slide"
    }
   },
   "outputs": [
    {
     "name": "stdout",
     "output_type": "stream",
     "text": [
      "{'a': [], 'b': [], 'c': [], 'd': []}\n"
     ]
    }
   ],
   "source": [
    "# Exercise 6: Using a dictionary comprehension, create a new dictionary that\n",
    "# contains the keys from dictionary letters that are strings, with the value for\n",
    "# each key assigned to be an empty list\n",
    "# The new dictionary should look as follows: {'a':[], 'b':[], 'c':[], 'd':[]}\n",
    "\n",
    "letters = {'a':'apple', 4: None, 'b': 'beetle', 'c': 'cat', 2: None, 'd': 'diamond'}\n",
    "\n",
    "print({i: [] for i in letters.keys() if type(i) == str}) #initialising a dictionary and start changing it "
   ]
  },
  {
   "cell_type": "code",
   "execution_count": 245,
   "metadata": {
    "collapsed": true,
    "slideshow": {
     "slide_type": "-"
    }
   },
   "outputs": [
    {
     "data": {
      "text/plain": [
       "{'a': ['a', 'an'],\n",
       " 'b': ['be', 'been'],\n",
       " 'c': ['can'],\n",
       " 'd': ['do', 'did'],\n",
       " 't': ['the', 'to']}"
      ]
     },
     "execution_count": 245,
     "metadata": {},
     "output_type": "execute_result"
    }
   ],
   "source": [
    "# Exercise 7: Now, distribute the words from the list below to the new dictionary\n",
    "# according to their first letter\n",
    "\n",
    "dic = {'a': [], 'b': [], 'c': [], 'd': []}\n",
    "wordlst = ['a', 'be', 'an', 'the', 'can', 'do', 'did', 'to', 'been']\n",
    "\n",
    "for i in wordlst: \n",
    "    if i[0] not in dic:  #if the first letter is not in my dictionary \n",
    "        dic[i[0]] = [] #initialise to an empty list \n",
    "    dic[i[0]].append(i) #then you can append \n",
    "dic"
   ]
  },
  {
   "cell_type": "markdown",
   "metadata": {
    "slideshow": {
     "slide_type": "slide"
    }
   },
   "source": [
    "## Best Practice: Beware of Iterating over Unordered Collections\n",
    "\n",
    "* (In Python 3.6 dictionaries are now implemented as ordered but you should not rely on this!)\n",
    "* For unordered collections, the ordering of elements is determined by how the elements are stored in memory\n"
   ]
  },
  {
   "cell_type": "code",
   "execution_count": 246,
   "metadata": {
    "slideshow": {
     "slide_type": "-"
    }
   },
   "outputs": [
    {
     "name": "stdout",
     "output_type": "stream",
     "text": [
      "List: [1, 2, 4, 8, 1, 2]\n",
      "Set: [8, 1, 2, 4]\n"
     ]
    }
   ],
   "source": [
    "lst = [1, 2, 4, 8, 1, 2]\n",
    "st = set(lst)\n",
    "\n",
    "print(\"List:\", [i for i in lst])    \n",
    "print(\"Set:\", [i for i in st]) \n"
   ]
  },
  {
   "cell_type": "markdown",
   "metadata": {
    "slideshow": {
     "slide_type": "slide"
    }
   },
   "source": [
    "## Best Practice: Avoid Mutating a List When Iterating over It\n"
   ]
  },
  {
   "cell_type": "code",
   "execution_count": 247,
   "metadata": {
    "slideshow": {
     "slide_type": "-"
    }
   },
   "outputs": [
    {
     "name": "stdout",
     "output_type": "stream",
     "text": [
      "0 [1, 2, 3, 4, 5, 6, 7, 8, 9]\n",
      "3 [1, 2, 4, 5, 6, 7, 8, 9]\n",
      "6 [1, 2, 4, 5, 7, 8, 9]\n",
      "8 [1, 2, 4, 5, 7, 9]\n"
     ]
    },
    {
     "ename": "IndexError",
     "evalue": "pop index out of range",
     "output_type": "error",
     "traceback": [
      "\u001b[0;31m---------------------------------------------------------------------------\u001b[0m",
      "\u001b[0;31mIndexError\u001b[0m                                Traceback (most recent call last)",
      "Cell \u001b[0;32mIn[247], line 3\u001b[0m\n\u001b[1;32m      1\u001b[0m lst \u001b[38;5;241m=\u001b[39m [i \u001b[38;5;28;01mfor\u001b[39;00m i \u001b[38;5;129;01min\u001b[39;00m \u001b[38;5;28mrange\u001b[39m(\u001b[38;5;241m10\u001b[39m)]\n\u001b[1;32m      2\u001b[0m \u001b[38;5;28;01mfor\u001b[39;00m i \u001b[38;5;129;01min\u001b[39;00m lst:\n\u001b[0;32m----> 3\u001b[0m     popped \u001b[38;5;241m=\u001b[39m \u001b[43mlst\u001b[49m\u001b[38;5;241;43m.\u001b[39;49m\u001b[43mpop\u001b[49m\u001b[43m(\u001b[49m\u001b[43mi\u001b[49m\u001b[43m)\u001b[49m\n\u001b[1;32m      4\u001b[0m     \u001b[38;5;28mprint\u001b[39m(popped, lst)\n\u001b[1;32m      7\u001b[0m \u001b[38;5;66;03m#shouldn't modify something you're iterating over \u001b[39;00m\n\u001b[1;32m      8\u001b[0m \u001b[38;5;66;03m#when you pop an element - your list is getting shorter - your iteration is now different \u001b[39;00m\n\u001b[1;32m      9\u001b[0m \u001b[38;5;66;03m#don't change what you are iterating over - you rather just duplicate a list \u001b[39;00m\n",
      "\u001b[0;31mIndexError\u001b[0m: pop index out of range"
     ]
    }
   ],
   "source": [
    "lst = [i for i in range(10)]\n",
    "for i in lst:\n",
    "    popped = lst.pop(i)\n",
    "    print(popped, lst)\n",
    "\n",
    "\n",
    "#shouldn't modify something you're iterating over \n",
    "#when you pop an element - your list is getting shorter - your iteration is now different \n",
    "#don't change what you are iterating over - you rather just duplicate a list \n"
   ]
  }
 ],
 "metadata": {
  "celltoolbar": "Slideshow",
  "kernelspec": {
   "display_name": "Python 3",
   "language": "python",
   "name": "python3"
  },
  "language_info": {
   "codemirror_mode": {
    "name": "ipython",
    "version": 3
   },
   "file_extension": ".py",
   "mimetype": "text/x-python",
   "name": "python",
   "nbconvert_exporter": "python",
   "pygments_lexer": "ipython3",
   "version": "3.8.9"
  }
 },
 "nbformat": 4,
 "nbformat_minor": 2
}
